{
 "cells": [
  {
   "cell_type": "markdown",
   "id": "29213109",
   "metadata": {},
   "source": [
    "## Plotly\n",
    "\n",
    "Plotly is an interactive plotting library.  \n",
    "\n",
    "The benefit of using Plotly is it offers some interactivity with your plots.  You're able to hover your mouse over the data points and see the numbers behind the graphic.  \n",
    "\n",
    "Examples can be found here: https://plotly.com/python/\n",
    "\n",
    "Currently, plotly cannot be installed from the Anaconda distribution.  You need to use another distribution called **pip**.  To install it, enter **pip install plotly** and **pip install cufflinks**.  This can be done in the Anaconda command window.  \n",
    "\n",
    "** NOTE: Make sure you only have one installation of Python on your computer when you do this, otherwise the installation may not work. **"
   ]
  },
  {
   "cell_type": "code",
   "execution_count": null,
   "id": "4da72a01",
   "metadata": {},
   "outputs": [],
   "source": [
    "import pandas as pd\n",
    "import numpy as np\n",
    "%matplotlib inline"
   ]
  },
  {
   "cell_type": "code",
   "execution_count": null,
   "id": "2abc0d32",
   "metadata": {},
   "outputs": [],
   "source": [
    "import plotly.express as px\n",
    "\n",
    "from plotly import __version__\n",
    "from plotly.offline import download_plotlyjs, init_notebook_mode, plot, iplot\n",
    "\n",
    "print(__version__) # most up to date version is > 6.0"
   ]
  },
  {
   "cell_type": "code",
   "execution_count": null,
   "id": "58fd097a",
   "metadata": {},
   "outputs": [],
   "source": [
    "# Ensures interactive charts display properly in Jupyter Notebooks\n",
    "init_notebook_mode(connected=True)"
   ]
  },
  {
   "cell_type": "code",
   "execution_count": null,
   "id": "f6aebe8c",
   "metadata": {},
   "outputs": [],
   "source": [
    "# Import data\n",
    "df = pd.read_csv(\"housing.csv\")\n",
    "df.head(2)"
   ]
  },
  {
   "cell_type": "code",
   "execution_count": null,
   "id": "f89dba09-4016-4428-b12e-a6b4911e8067",
   "metadata": {},
   "outputs": [],
   "source": [
    "fig = px.scatter(df, x='total_rooms', y='population', size_max=10)  # Set max marker size\n",
    "fig.update_traces(marker=dict(size=10))  # Manually set all markers to size 10\n",
    "fig.show()"
   ]
  },
  {
   "cell_type": "code",
   "execution_count": null,
   "id": "b6fcbc7a-d36b-49f0-bdfa-def0f8755363",
   "metadata": {},
   "outputs": [],
   "source": [
    "import plotly.io as pio\n",
    "\n",
    "pio.templates.default = \"plotly\"  # Apply a theme globally (plotly by default)\n",
    "#other choices include: \"ggplot2\", \"seaborn\", \"presentation\", \"plotly_dark\", etc."
   ]
  },
  {
   "cell_type": "code",
   "execution_count": null,
   "id": "bb9b9e7f-c164-4f5d-954c-005414cc1f7c",
   "metadata": {},
   "outputs": [],
   "source": [
    "df_counts = df.count()\n",
    "px.bar(x=df_counts.index, y=df_counts.values, labels={'x': 'Columns', 'y': 'Count'})"
   ]
  },
  {
   "cell_type": "code",
   "execution_count": null,
   "id": "1177a69d-8096-4047-a067-b541801b6f4e",
   "metadata": {},
   "outputs": [],
   "source": [
    "numeric_df = df.select_dtypes(include='number')\n",
    "px.box(numeric_df)"
   ]
  },
  {
   "cell_type": "code",
   "execution_count": null,
   "id": "1212f47c-907b-4dd4-9114-9c8e1e5d1815",
   "metadata": {},
   "outputs": [],
   "source": [
    "px.scatter(df, x='total_rooms', y='population', size='median_house_value')"
   ]
  },
  {
   "cell_type": "markdown",
   "id": "f592b4ca",
   "metadata": {},
   "source": [
    "## Tableau\n",
    "\n",
    "Tableau public is a free website that lets you use a browser based system to create very nice visualizations.  There are other platforms from Google and others that do similar.  I especially like Tableau for plotting geographic data on a map. \n",
    "\n",
    "Examples can be found here:  https://public.tableau.com/en-us/s/\n",
    "\n",
    "The gif shown here gives you an example: https://www.tableau.com/products/desktop"
   ]
  },
  {
   "cell_type": "code",
   "execution_count": null,
   "id": "a780ff75",
   "metadata": {},
   "outputs": [],
   "source": []
  }
 ],
 "metadata": {
  "kernelspec": {
   "display_name": "Python 3 (ipykernel)",
   "language": "python",
   "name": "python3"
  },
  "language_info": {
   "codemirror_mode": {
    "name": "ipython",
    "version": 3
   },
   "file_extension": ".py",
   "mimetype": "text/x-python",
   "name": "python",
   "nbconvert_exporter": "python",
   "pygments_lexer": "ipython3",
   "version": "3.11.9"
  }
 },
 "nbformat": 4,
 "nbformat_minor": 5
}
