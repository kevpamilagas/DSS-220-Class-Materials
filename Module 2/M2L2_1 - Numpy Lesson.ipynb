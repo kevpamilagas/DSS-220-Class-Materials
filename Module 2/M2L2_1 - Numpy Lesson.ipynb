{
 "cells": [
  {
   "cell_type": "markdown",
   "id": "f37aa8a6",
   "metadata": {},
   "source": [
    "## Numpy - A Brief Reminder\n",
    "\n",
    "Welcome to the Numpy lesson.  This lesson covers only a short introduction to the functions we will be using in this course.  As such, it is not meant to be comprehensive.   "
   ]
  },
  {
   "cell_type": "markdown",
   "id": "00d9de2b",
   "metadata": {},
   "source": [
    "First import the Numpy library:"
   ]
  },
  {
   "cell_type": "code",
   "execution_count": null,
   "id": "7579fb2e",
   "metadata": {},
   "outputs": [],
   "source": [
    "# to install the numpy library, type the following in the Anaconda command window: conda install numpy\n",
    "import numpy as np"
   ]
  },
  {
   "cell_type": "markdown",
   "id": "0fbbbea6",
   "metadata": {},
   "source": [
    "Next let's create a list and cast it into a Numpy array"
   ]
  },
  {
   "cell_type": "code",
   "execution_count": null,
   "id": "15306146",
   "metadata": {},
   "outputs": [],
   "source": [
    "# create a python list\n",
    "my_list = [100, 200, 300]\n",
    "\n",
    "#cast to a Numpy array\n",
    "my_arr = np.array(my_list)\n",
    "my_arr"
   ]
  },
  {
   "cell_type": "markdown",
   "id": "46651148",
   "metadata": {},
   "source": [
    "A 1-dimensional array is called a **vector**\n",
    "Indices in an array start at 0.  So my_arr[0] = 100.  Let's try it out"
   ]
  },
  {
   "cell_type": "code",
   "execution_count": null,
   "id": "564c2435",
   "metadata": {},
   "outputs": [],
   "source": [
    "print(my_arr[0])\n",
    "print(my_arr[1])"
   ]
  },
  {
   "cell_type": "markdown",
   "id": "6b64f66e",
   "metadata": {},
   "source": [
    "To access a range of values, use the colon (:) to specify the first index and **1 more than the last index**.  That is, don't include the last index in the range.  \n",
    "\n",
    "For example, to get the values from index =0 to index =1, use the range **0:2**"
   ]
  },
  {
   "cell_type": "code",
   "execution_count": null,
   "id": "67da0a7b",
   "metadata": {},
   "outputs": [],
   "source": [
    "print(my_arr[0:2])"
   ]
  },
  {
   "cell_type": "markdown",
   "id": "da0933f6",
   "metadata": {},
   "source": [
    "### Matrices\n",
    "**Matrices** are represented in Numpy as lists of lists.  \n",
    "It's **important** that all lists be of the same length to combine into a matrix\n",
    "Let's see an example of combining 3 lists into a matrix.  Each list consists of temperature readings on a particular day."
   ]
  },
  {
   "cell_type": "code",
   "execution_count": null,
   "id": "2a0d23d5",
   "metadata": {},
   "outputs": [],
   "source": [
    "day1_temp = [30, 50, 45]\n",
    "day2_temp = [50, 80, 60]\n",
    "day3_temp = [70, 100, 80]"
   ]
  },
  {
   "cell_type": "code",
   "execution_count": null,
   "id": "c59b755e",
   "metadata": {},
   "outputs": [],
   "source": [
    "temp_matrix = np.array([day1_temp, day2_temp, day3_temp])\n",
    "print(temp_matrix)"
   ]
  },
  {
   "cell_type": "markdown",
   "id": "28d68716",
   "metadata": {},
   "source": [
    "To retrieve values from a matrix, use 2 indices, first for the row number and second for the column number."
   ]
  },
  {
   "cell_type": "code",
   "execution_count": null,
   "id": "dd8f4d35",
   "metadata": {},
   "outputs": [],
   "source": [
    "print(\"first row, first column - \", temp_matrix[0,0])\n",
    "print(\"second row, first column - \",temp_matrix[1,0])\n",
    "print(\"first row, second column - \",temp_matrix[0,1])"
   ]
  },
  {
   "cell_type": "markdown",
   "id": "68076fd8",
   "metadata": {},
   "source": [
    "Now what if we wanted the first **row**? \n",
    "Use a : to represent that you want the values in all of the columns for the first row."
   ]
  },
  {
   "cell_type": "code",
   "execution_count": null,
   "id": "aa6ba79e",
   "metadata": {},
   "outputs": [],
   "source": [
    "print(temp_matrix[0,:])"
   ]
  },
  {
   "cell_type": "markdown",
   "id": "a8365081",
   "metadata": {},
   "source": [
    "Now let's flip that and get all of the values in the first **column**"
   ]
  },
  {
   "cell_type": "code",
   "execution_count": null,
   "id": "b0f4f5f3",
   "metadata": {},
   "outputs": [],
   "source": [
    "print(temp_matrix[:,0])"
   ]
  },
  {
   "cell_type": "markdown",
   "id": "cb1ddf2c",
   "metadata": {},
   "source": [
    "Numpy is used for a lot of statistical and mathematical calculations.  A full list of these can be found here:\n",
    "https://numpy.org/doc/stable/reference/routines.statistics.html#\n",
    "\n",
    "Let's practice a few for our matrix.\n",
    "\n",
    "First, let's try to see the maximum value in our matrix"
   ]
  },
  {
   "cell_type": "code",
   "execution_count": null,
   "id": "2cf25aaa",
   "metadata": {},
   "outputs": [],
   "source": [
    "print(temp_matrix.max())"
   ]
  },
  {
   "cell_type": "markdown",
   "id": "44d2aeb6",
   "metadata": {},
   "source": [
    "Now if we want to see the maximum value in each row or column, you would use the amax() function.  \n",
    "The axis=0 instructs the function to search **vertically** which would give you the maximum value in each column\n",
    "and axis=1 instructs the function to search **horizontally** which would give you the maximum value in each row"
   ]
  },
  {
   "cell_type": "code",
   "execution_count": null,
   "id": "d86f3b60",
   "metadata": {},
   "outputs": [],
   "source": [
    "print(\"The original matrix is\\n\", temp_matrix, \"\\n\")\n",
    "print(\"Max value in each column: \", np.amax(temp_matrix, axis=0)) #max value in each column"
   ]
  },
  {
   "cell_type": "code",
   "execution_count": null,
   "id": "069b929c",
   "metadata": {},
   "outputs": [],
   "source": [
    "print(\"Max value in each row: \", np.amax(temp_matrix, axis=1)) #max value in each row"
   ]
  },
  {
   "cell_type": "markdown",
   "id": "3ececdd1",
   "metadata": {},
   "source": [
    "### Random numbers\n",
    "Numpy is very good for generating random number in an array.  Let's practice some"
   ]
  },
  {
   "cell_type": "code",
   "execution_count": null,
   "id": "fbd4d822",
   "metadata": {},
   "outputs": [],
   "source": [
    "np.random.seed(100) #set a random see so we all get the same result"
   ]
  },
  {
   "cell_type": "code",
   "execution_count": null,
   "id": "e5cd15ae",
   "metadata": {},
   "outputs": [],
   "source": [
    "#uniform distributed, 3x3 matrix, 0 to 1 range/\n",
    "print(\"Uniform Distributed Matrix in 0-1 range:\\n\", np.random.random((3,3))) "
   ]
  },
  {
   "cell_type": "code",
   "execution_count": null,
   "id": "49a306f3",
   "metadata": {},
   "outputs": [],
   "source": [
    "#uniform distributed, 3x3 matrix, 0 to 10 range/\n",
    "print(\"Uniform Distributed Matrix of Integers in 0-10 range:\\n\",np.random.randint(0,10,(3,3))) "
   ]
  },
  {
   "cell_type": "code",
   "execution_count": null,
   "id": "09806e3c",
   "metadata": {},
   "outputs": [],
   "source": [
    "#normally distributed 3x3 matrix with 0 mean, 1 std dev\n",
    "np.random.normal(0,1,(3,3)) "
   ]
  },
  {
   "cell_type": "markdown",
   "id": "95e93a94",
   "metadata": {},
   "source": [
    "### This is just a brief overview\n",
    "- There are many other functions that I've referenced in the link above.\n",
    "- It's great at random number generation\n",
    "- Instead of going over the list exhaustively, we'll cover individual functions as we come across them in future lessons "
   ]
  },
  {
   "cell_type": "code",
   "execution_count": null,
   "id": "99d30071",
   "metadata": {},
   "outputs": [],
   "source": []
  }
 ],
 "metadata": {
  "kernelspec": {
   "display_name": "Python 3 (ipykernel)",
   "language": "python",
   "name": "python3"
  },
  "language_info": {
   "codemirror_mode": {
    "name": "ipython",
    "version": 3
   },
   "file_extension": ".py",
   "mimetype": "text/x-python",
   "name": "python",
   "nbconvert_exporter": "python",
   "pygments_lexer": "ipython3",
   "version": "3.11.9"
  }
 },
 "nbformat": 4,
 "nbformat_minor": 5
}
