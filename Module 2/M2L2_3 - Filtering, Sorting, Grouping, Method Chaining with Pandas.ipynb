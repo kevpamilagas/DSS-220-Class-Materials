{
 "cells": [
  {
   "cell_type": "markdown",
   "id": "d95a0b5c",
   "metadata": {},
   "source": [
    "## Introduction\n",
    "In this lesson, we will practice filtering, sorting and grouping data.  We'll also cover method chaining which you might encounter when you're reading code."
   ]
  },
  {
   "cell_type": "markdown",
   "id": "fb5c44a0",
   "metadata": {},
   "source": [
    "## Important Functions\n",
    "When cleaning data, filtering is a powerful tool in Pandas to remove unwanted or incorrect data.  \n",
    "\n",
    "In the following example, we will look at data from the California housing dataset.  It can be found here: https://www.kaggle.com/datasets/camnugent/california-housing-prices and it is also included in the resources with this lecture."
   ]
  },
  {
   "cell_type": "code",
   "execution_count": null,
   "id": "3fe5db7c",
   "metadata": {},
   "outputs": [],
   "source": [
    "import pandas as pd\n",
    "df = pd.read_csv('housing.csv')"
   ]
  },
  {
   "cell_type": "markdown",
   "id": "d9f57e36",
   "metadata": {},
   "source": [
    "## Some important functions"
   ]
  },
  {
   "cell_type": "code",
   "execution_count": null,
   "id": "c3e59451",
   "metadata": {},
   "outputs": [],
   "source": [
    "df.info() "
   ]
  },
  {
   "cell_type": "code",
   "execution_count": null,
   "id": "552ef737",
   "metadata": {},
   "outputs": [],
   "source": [
    "df.describe()"
   ]
  },
  {
   "cell_type": "code",
   "execution_count": null,
   "id": "78b5d84a",
   "metadata": {},
   "outputs": [],
   "source": [
    "df.nunique()"
   ]
  },
  {
   "cell_type": "code",
   "execution_count": null,
   "id": "b92f7482",
   "metadata": {},
   "outputs": [],
   "source": [
    "df.isnull()"
   ]
  },
  {
   "cell_type": "code",
   "execution_count": null,
   "id": "ae5e7046",
   "metadata": {},
   "outputs": [],
   "source": [
    "df.isnull().sum()"
   ]
  },
  {
   "cell_type": "markdown",
   "id": "85e06ba9",
   "metadata": {},
   "source": [
    "## Filtering"
   ]
  },
  {
   "cell_type": "code",
   "execution_count": null,
   "id": "6ae72959",
   "metadata": {},
   "outputs": [],
   "source": [
    "df.loc[:,'total_rooms']"
   ]
  },
  {
   "cell_type": "code",
   "execution_count": null,
   "id": "d25f0034",
   "metadata": {},
   "outputs": [],
   "source": [
    "df.loc[df.loc[:,'total_rooms']>25000,:]"
   ]
  },
  {
   "cell_type": "markdown",
   "id": "656a632c",
   "metadata": {},
   "source": [
    "## Sorting"
   ]
  },
  {
   "cell_type": "code",
   "execution_count": null,
   "id": "4abdd7d6",
   "metadata": {},
   "outputs": [],
   "source": [
    "df.sort_values(\"median_house_value\")"
   ]
  },
  {
   "cell_type": "code",
   "execution_count": null,
   "id": "4542ccab",
   "metadata": {},
   "outputs": [],
   "source": [
    "df.sort_values(\"median_house_value\",ascending=False)"
   ]
  },
  {
   "cell_type": "code",
   "execution_count": null,
   "id": "4068708d",
   "metadata": {
    "scrolled": true
   },
   "outputs": [],
   "source": [
    "df # sorting wasn't stored.  Use \"inplace\" to make sort permanent"
   ]
  },
  {
   "cell_type": "code",
   "execution_count": null,
   "id": "42a5c07e",
   "metadata": {},
   "outputs": [],
   "source": [
    "df.sort_values(\"median_house_value\",ascending=False, inplace=True)\n",
    "df"
   ]
  },
  {
   "cell_type": "markdown",
   "id": "4ac8ed3c",
   "metadata": {},
   "source": [
    "## Aggregate Functions "
   ]
  },
  {
   "cell_type": "code",
   "execution_count": null,
   "id": "9c073ac0",
   "metadata": {},
   "outputs": [],
   "source": [
    "df.loc[:,\"housing_median_age\"].mean()"
   ]
  },
  {
   "cell_type": "code",
   "execution_count": null,
   "id": "6f8a8e1c",
   "metadata": {},
   "outputs": [],
   "source": [
    "df.loc[:,\"housing_median_age\"].max()"
   ]
  },
  {
   "cell_type": "markdown",
   "id": "1a82de68",
   "metadata": {},
   "source": [
    "## Grouping with Aggregate Functions"
   ]
  },
  {
   "cell_type": "code",
   "execution_count": null,
   "id": "d2f96c0b",
   "metadata": {},
   "outputs": [],
   "source": [
    "df.groupby(['ocean_proximity']).mean()"
   ]
  },
  {
   "cell_type": "markdown",
   "id": "915ba5e7",
   "metadata": {},
   "source": [
    "## Method Chaining\n",
    "- Can save a lot of memory by not creating intermediate variables\n",
    "- But harder to debug and read"
   ]
  },
  {
   "cell_type": "markdown",
   "id": "681e0312",
   "metadata": {},
   "source": [
    "Continuing the last example, use method chaining to find average for just the \"total_rooms\" column"
   ]
  },
  {
   "cell_type": "code",
   "execution_count": null,
   "id": "aac2f1bc",
   "metadata": {},
   "outputs": [],
   "source": [
    "df.groupby(['ocean_proximity']).mean().loc[:,'total_rooms']"
   ]
  },
  {
   "cell_type": "markdown",
   "id": "968ea16a",
   "metadata": {},
   "source": [
    "### Another example of method chaining:"
   ]
  },
  {
   "cell_type": "code",
   "execution_count": null,
   "id": "341e4d8b",
   "metadata": {},
   "outputs": [],
   "source": [
    "df2 = df.loc[:,['total_rooms' , 'households'] ]\n",
    "df3 = df2.fillna(0)\n",
    "df4 = df3.head()\n",
    "df4"
   ]
  },
  {
   "cell_type": "code",
   "execution_count": null,
   "id": "fe073b13",
   "metadata": {},
   "outputs": [],
   "source": [
    "df.loc[:,['total_rooms' , 'households'] ].fillna(0).head()"
   ]
  }
 ],
 "metadata": {
  "kernelspec": {
   "display_name": "Python 3 (ipykernel)",
   "language": "python",
   "name": "python3"
  },
  "language_info": {
   "codemirror_mode": {
    "name": "ipython",
    "version": 3
   },
   "file_extension": ".py",
   "mimetype": "text/x-python",
   "name": "python",
   "nbconvert_exporter": "python",
   "pygments_lexer": "ipython3",
   "version": "3.11.9"
  }
 },
 "nbformat": 4,
 "nbformat_minor": 5
}
