{
 "cells": [
  {
   "cell_type": "markdown",
   "id": "983316de",
   "metadata": {},
   "source": [
    "# Pandas Fundamentals\n",
    "Welcome to a short primer on how to use Pandas.  Note that this is not an in depth tutorial, and there are excellent resources at AFIT and online for further study.  \n",
    "\n",
    "If you haven't already done so, please install the Pandas library by going to your Anaconda distribution and typing **conda install pandas**.  You may need administrative privileges for this.  \n",
    "\n",
    "Let's start by importing the Pandas library. "
   ]
  },
  {
   "cell_type": "code",
   "execution_count": null,
   "id": "cbde31df",
   "metadata": {},
   "outputs": [],
   "source": [
    "import pandas as pd"
   ]
  },
  {
   "cell_type": "markdown",
   "id": "95424146",
   "metadata": {},
   "source": [
    "1-D data structures in Pandas are called **Series**\n",
    "\n",
    "Let's create a very simple Series.  Note that the index (0,1,2) is also printed alongside the values (101,102,103)"
   ]
  },
  {
   "cell_type": "code",
   "execution_count": null,
   "id": "7151ad02",
   "metadata": {},
   "outputs": [],
   "source": [
    "data = pd.Series([101,102,103])\n",
    "print(data)"
   ]
  },
  {
   "cell_type": "markdown",
   "id": "a33ecc59",
   "metadata": {},
   "source": [
    "You can acceess a particular value in the Series by using it's index, similar to Numpy"
   ]
  },
  {
   "cell_type": "code",
   "execution_count": null,
   "id": "fc97c947",
   "metadata": {},
   "outputs": [],
   "source": [
    "data[0]"
   ]
  },
  {
   "cell_type": "markdown",
   "id": "b5539004",
   "metadata": {},
   "source": [
    "You can replace the index with other numbers or even strings.  Here, let's replace the index with state abbreviations"
   ]
  },
  {
   "cell_type": "code",
   "execution_count": null,
   "id": "622cfb29",
   "metadata": {},
   "outputs": [],
   "source": [
    "data.index = ['OH','NY','FL']"
   ]
  },
  {
   "cell_type": "markdown",
   "id": "b28d3f45",
   "metadata": {},
   "source": [
    "Then if we wanted to access the value for Ohio, we would use 'OH' as our index.  This comes in very handy when you're querying data.  "
   ]
  },
  {
   "cell_type": "code",
   "execution_count": null,
   "id": "245c5b6b",
   "metadata": {},
   "outputs": [],
   "source": [
    "data"
   ]
  },
  {
   "cell_type": "markdown",
   "id": "c0cf612b",
   "metadata": {},
   "source": [
    "So 3 different ways to access values in a Series are"
   ]
  },
  {
   "cell_type": "code",
   "execution_count": null,
   "id": "45614a8e",
   "metadata": {},
   "outputs": [],
   "source": [
    "print(data['OH'])\n",
    "print(data.loc['OH'])\n",
    "print(data.iloc[0]) # use iloc when you want the base indices that start with 0 on the first entry and go to n-1, where n=length of Series"
   ]
  },
  {
   "cell_type": "markdown",
   "id": "91469450",
   "metadata": {},
   "source": [
    "Finally, you can find the length of the Series using the .size function"
   ]
  },
  {
   "cell_type": "code",
   "execution_count": null,
   "id": "ffb3e9f9",
   "metadata": {},
   "outputs": [],
   "source": [
    "data.size"
   ]
  },
  {
   "cell_type": "markdown",
   "id": "51ee7365",
   "metadata": {},
   "source": [
    "## Pandas Dataframes"
   ]
  },
  {
   "cell_type": "markdown",
   "id": "4883ba43",
   "metadata": {},
   "source": [
    "Pandas dataframes are mainly created by reading in a data file, such as .csv, .xlsx, etc.  If the input file has a header, Pandas can make that the header row.  \n",
    "\n",
    "Below, we read from a dataset about the survivors from the titanic.  It can be found here: https://www.kaggle.com/competitions/titanic.  It is also located in this folder. \n",
    "\n",
    "For information on how to read other formats, see: https://pandas.pydata.org/docs/reference/io.html"
   ]
  },
  {
   "cell_type": "code",
   "execution_count": null,
   "id": "61afd75e",
   "metadata": {},
   "outputs": [],
   "source": [
    "titanic = pd.read_csv('titanic_train.csv') \n",
    "titanic.head() #print the header and the first 5 lines."
   ]
  },
  {
   "cell_type": "markdown",
   "id": "9c0b1320",
   "metadata": {},
   "source": [
    "Note that the dataframe index is set to the default starting at 0.  \n",
    "\n",
    "We can reset the index to another column such as the PassengerID using the set_index command.  \n"
   ]
  },
  {
   "cell_type": "code",
   "execution_count": null,
   "id": "578cbdaf",
   "metadata": {},
   "outputs": [],
   "source": [
    "titanic = titanic.set_index('PassengerId')"
   ]
  },
  {
   "cell_type": "code",
   "execution_count": null,
   "id": "af05b769",
   "metadata": {},
   "outputs": [],
   "source": [
    "titanic.isnull().sum()"
   ]
  },
  {
   "cell_type": "code",
   "execution_count": null,
   "id": "3b49328b",
   "metadata": {},
   "outputs": [],
   "source": [
    "titanic.head(3)  # get the first 3 rows only"
   ]
  },
  {
   "cell_type": "code",
   "execution_count": null,
   "id": "ebb0657e",
   "metadata": {},
   "outputs": [],
   "source": [
    "titanic.columns # prints the column names"
   ]
  },
  {
   "cell_type": "markdown",
   "id": "bf1afb50",
   "metadata": {},
   "source": [
    "To retrieve a column of data, simply use the column title.  "
   ]
  },
  {
   "cell_type": "code",
   "execution_count": null,
   "id": "632c4ecc",
   "metadata": {},
   "outputs": [],
   "source": [
    "titanic.loc[:,'Age']\n",
    "# or titanic['Age']"
   ]
  },
  {
   "cell_type": "markdown",
   "id": "1541c011",
   "metadata": {},
   "source": [
    "You can also get more than 1 column, but **you need to make a list of the column names** first"
   ]
  },
  {
   "cell_type": "code",
   "execution_count": null,
   "id": "a5e88eeb",
   "metadata": {},
   "outputs": [],
   "source": [
    "titanic.loc[:,['Age','Survived']]\n",
    "\n",
    "# NOTE: this would not work: housing['Age','Fare']"
   ]
  },
  {
   "cell_type": "markdown",
   "id": "ae3be061",
   "metadata": {},
   "source": [
    "Now what if we wanted the 2nd entry of the 'Age' column?  \n",
    "- The PassengerID of the 2nd entry is 2\n",
    "    - You can use the .loc[2] function for that\n",
    "- The base index for the 2nd entry is 1 (the first entry starts at 0)\n",
    "    - You can use the iloc[1] function for that"
   ]
  },
  {
   "cell_type": "code",
   "execution_count": null,
   "id": "a8875689",
   "metadata": {},
   "outputs": [],
   "source": [
    "print(titanic.loc[2,'Age'])\n",
    "print(titanic.iloc[1,4])"
   ]
  },
  {
   "cell_type": "code",
   "execution_count": null,
   "id": "ade33a43",
   "metadata": {},
   "outputs": [],
   "source": [
    "titanic.head(3)"
   ]
  },
  {
   "cell_type": "code",
   "execution_count": null,
   "id": "792c1d3e",
   "metadata": {
    "scrolled": true
   },
   "outputs": [],
   "source": [
    "print(titanic.loc[1:3,'Age'])\n",
    "# or\n",
    "print (titanic.iloc[0:3,4])"
   ]
  },
  {
   "cell_type": "markdown",
   "id": "ef719bcd",
   "metadata": {},
   "source": [
    "If you want to use retrieve a range of rows, use the colon (:) symbol.  Note in the example below that iloc() does NOT include the last indexed digit.  "
   ]
  },
  {
   "cell_type": "code",
   "execution_count": null,
   "id": "a6c93bed",
   "metadata": {},
   "outputs": [],
   "source": [
    "print(titanic.loc[1:4,'Age'])\n",
    "print(titanic.iloc[0:3,4])"
   ]
  },
  {
   "cell_type": "markdown",
   "id": "804a8cf7",
   "metadata": {},
   "source": [
    "Lastly note that there are 2 ways to use the .loc function"
   ]
  },
  {
   "cell_type": "code",
   "execution_count": null,
   "id": "b40f287b",
   "metadata": {},
   "outputs": [],
   "source": [
    "print(titanic.loc[2,'Age'])\n",
    "print(titanic['Age'].loc[2])"
   ]
  },
  {
   "cell_type": "code",
   "execution_count": null,
   "id": "3a0f549a",
   "metadata": {},
   "outputs": [],
   "source": []
  }
 ],
 "metadata": {
  "kernelspec": {
   "display_name": "Python 3 (ipykernel)",
   "language": "python",
   "name": "python3"
  },
  "language_info": {
   "codemirror_mode": {
    "name": "ipython",
    "version": 3
   },
   "file_extension": ".py",
   "mimetype": "text/x-python",
   "name": "python",
   "nbconvert_exporter": "python",
   "pygments_lexer": "ipython3",
   "version": "3.11.9"
  }
 },
 "nbformat": 4,
 "nbformat_minor": 5
}
