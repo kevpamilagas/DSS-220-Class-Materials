{
 "cells": [
  {
   "cell_type": "markdown",
   "id": "3db81c7d",
   "metadata": {},
   "source": [
    "## Word Search\n",
    "\n",
    "Welcome to the Data Science Workflow word-search exercise.  Your task is to use iloc() or loc() functions to print each stage of the data science workflow, presented below without spaces:\n",
    "* ASKQUESTIONS\n",
    "* PREPAREANDPLAN\n",
    "* PROCESS\n",
    "* ANALYZE\n",
    "* SHAREANDACT"
   ]
  },
  {
   "cell_type": "code",
   "execution_count": null,
   "id": "4fa04f84",
   "metadata": {},
   "outputs": [],
   "source": [
    "import pandas as pd"
   ]
  },
  {
   "cell_type": "code",
   "execution_count": null,
   "id": "f3f03775",
   "metadata": {},
   "outputs": [],
   "source": [
    "df = pd.read_csv(\"PandasPuzzle.csv\")\n",
    "df"
   ]
  }
 ],
 "metadata": {
  "kernelspec": {
   "display_name": "Python 3 (ipykernel)",
   "language": "python",
   "name": "python3"
  },
  "language_info": {
   "codemirror_mode": {
    "name": "ipython",
    "version": 3
   },
   "file_extension": ".py",
   "mimetype": "text/x-python",
   "name": "python",
   "nbconvert_exporter": "python",
   "pygments_lexer": "ipython3",
   "version": "3.11.9"
  }
 },
 "nbformat": 4,
 "nbformat_minor": 5
}
