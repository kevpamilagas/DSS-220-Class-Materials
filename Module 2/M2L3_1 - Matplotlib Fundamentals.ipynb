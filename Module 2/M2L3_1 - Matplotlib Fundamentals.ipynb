{
 "cells": [
  {
   "attachments": {},
   "cell_type": "markdown",
   "id": "4376d7c0",
   "metadata": {},
   "source": [
    "## Matplotlib Fundamentals\n",
    "Welcome to the fundamentals of plotting data in Matplotlib.  We will be covering here how to visualize data using the Matplotlib library.  \n",
    "\n",
    "References to this library is:\n",
    "\n",
    "**Matplotlib** : https://matplotlib.org/\n",
    "**Tableau** : https://public.tableau.com/en-us/s/\n",
    "**Plotly** : https://plotly.com/python/getting-started/\n",
    "\n",
    "Below is a basic cheat sheet of functions from the Matplotlib website:\n",
    "<div>\n",
    "<img src = \"Matplotlib%20-%20Reference.png\" width=\"500\">\n",
    "</div>"
   ]
  },
  {
   "cell_type": "markdown",
   "id": "c51780b9",
   "metadata": {},
   "source": [
    "Framework:\n",
    "\n",
    "- Matplotlib\n",
    "    - fig, ax fundamentals\n",
    "    - Subplots\n",
    "    - title, axes title, legend (show graphic from matplotlib)\n",
    "    - Hist // Bar // Line // Scatter\n",
    "\n",
    "- Seaborn:\n",
    "    - "
   ]
  },
  {
   "cell_type": "markdown",
   "id": "83566cdf",
   "metadata": {},
   "source": [
    "## Matplotlib\n",
    "Matplotlib is a fundamental library that is used by many different other libraries.  It's functionality is very similar to Matlab.\n",
    "\n",
    "Start by installing Matplotlib in the Anaconda command window: conda install matplotlib"
   ]
  },
  {
   "cell_type": "code",
   "execution_count": null,
   "id": "eb414a5d",
   "metadata": {},
   "outputs": [],
   "source": [
    "# Import libraries:\n",
    "import matplotlib.pyplot as plt\n",
    "import numpy as np"
   ]
  },
  {
   "cell_type": "code",
   "execution_count": null,
   "id": "9c32f7c0",
   "metadata": {},
   "outputs": [],
   "source": [
    "#first lets create some fake data\n",
    "x = np.arange(0,10,1) \n",
    "y = np.arange(10,20,1)\n",
    "np.random.seed(100)\n",
    "z=np.random.randint(1,10,10)\n",
    "print(x,\"\\n\",y,\"\\n\",z)"
   ]
  },
  {
   "cell_type": "code",
   "execution_count": null,
   "id": "96948b65",
   "metadata": {},
   "outputs": [],
   "source": [
    "#simplest plot\n",
    "plt.plot(x,y)\n",
    "plt.xlabel('x')\n",
    "plt.ylabel('y')\n",
    "plt.title('this is a title')\n",
    "plt.show() #it's important to put the plt.show() at the end of the cell, otherwise you will lose plot information"
   ]
  },
  {
   "cell_type": "markdown",
   "id": "9a9fe3ea",
   "metadata": {},
   "source": [
    "The limitation here is that all of the title and axes configuration needs to be done at once before the plt.show().  Matplotlib doesn't remember the figure you were working on, and for each plt.show(), you'll get another window "
   ]
  },
  {
   "cell_type": "code",
   "execution_count": null,
   "id": "64c6a7e1",
   "metadata": {},
   "outputs": [],
   "source": [
    "#simplest plot\n",
    "plt.plot(x,y)\n",
    "plt.show()\n",
    "\n",
    "#information below will be on a new window\n",
    "plt.xlabel('x')\n",
    "plt.ylabel('y')\n",
    "plt.title('this is a title')\n",
    "plt.show()"
   ]
  },
  {
   "cell_type": "markdown",
   "id": "cecbe50f",
   "metadata": {},
   "source": [
    "To prevent this, we use **axes** and **figure handles**"
   ]
  },
  {
   "cell_type": "code",
   "execution_count": null,
   "id": "278564f6",
   "metadata": {},
   "outputs": [],
   "source": [
    "fig, axes = plt.subplots(nrows=1,ncols=1)\n",
    "axes.plot(x,y)\n",
    "\n",
    "axes.set_xlabel('x')\n",
    "axes.set_ylabel('y')\n",
    "axes.set_title('this is a title')\n",
    "plt.show()\n"
   ]
  },
  {
   "cell_type": "code",
   "execution_count": null,
   "id": "e5cfb4f0",
   "metadata": {},
   "outputs": [],
   "source": [
    "### Subplots\n",
    "fig, axes = plt.subplots(nrows=2,ncols=1)\n",
    "axes[0].plot(x,y)\n",
    "axes[0].set_xlabel('x')\n",
    "axes[0].set_ylabel('y')\n",
    "axes[0].set_title('x vs y')\n",
    "\n",
    "axes[1].plot(x,z)\n",
    "axes[1].set_xlabel('x')\n",
    "axes[1].set_ylabel('z')\n",
    "axes[1].set_title('x vs z')\n",
    "\n",
    "plt.tight_layout()\n",
    "plt.show()\n"
   ]
  },
  {
   "cell_type": "markdown",
   "id": "8799957c",
   "metadata": {},
   "source": [
    "## Types of plots\n",
    "Next we'll cover different types of plots in Matplotlib.  These are quick tutorials.  Please see the reference material for more advanced functions\n",
    "\n",
    "### Histogram\n",
    "\n",
    "Reference: https://matplotlib.org/stable/gallery/statistics/hist.html#sphx-glr-gallery-statistics-hist-py"
   ]
  },
  {
   "cell_type": "code",
   "execution_count": null,
   "id": "77485de0",
   "metadata": {},
   "outputs": [],
   "source": [
    "#create some normally distributed data\n",
    "data_hist = np.random.normal(0,1,300)\n",
    "\n",
    "fig, axes = plt.subplots()\n",
    "axes.hist(data_hist)\n",
    "\n",
    "plt.show()"
   ]
  },
  {
   "cell_type": "markdown",
   "id": "dd121826",
   "metadata": {},
   "source": [
    "### Bar chart\n",
    "Reference: https://matplotlib.org/stable/gallery/lines_bars_and_markers/bar_colors.html#sphx-glr-gallery-lines-bars-and-markers-bar-colors-py"
   ]
  },
  {
   "cell_type": "code",
   "execution_count": null,
   "id": "d068d802",
   "metadata": {},
   "outputs": [],
   "source": [
    "# Bar chart\n",
    "time_var = np.arange(0,11,1)\n",
    "y_var = time_var*0.1\n",
    "\n",
    "fig,axes = plt.subplots()\n",
    "axes.bar(time_var, y_var)\n",
    "\n",
    "plt.show()"
   ]
  },
  {
   "cell_type": "markdown",
   "id": "8ba3b6e3",
   "metadata": {},
   "source": [
    "### Line Chart\n",
    "Reference: https://matplotlib.org/stable/gallery/lines_bars_and_markers/csd_demo.html#sphx-glr-gallery-lines-bars-and-markers-csd-demo-py"
   ]
  },
  {
   "cell_type": "code",
   "execution_count": null,
   "id": "18946ce2",
   "metadata": {},
   "outputs": [],
   "source": [
    "sig_var = np.arange(0,10,0.1)\n",
    "nse_var1 = np.random.normal(0,1,100)\n",
    "nse_var2 = np.random.normal(0,1,100)\n",
    "\n",
    "x1 = sig_var + nse_var1\n",
    "x2 = sig_var + nse_var2\n",
    "\n",
    "t = np.arange(0,len(sig_var),1)\n",
    "\n",
    "fig, axs = plt.subplots()\n",
    "axs.plot(t, x1, label='x1')\n",
    "axs.plot(t, x2, label='x2')\n",
    "\n",
    "axs.legend()\n",
    "\n",
    "plt.show()"
   ]
  },
  {
   "cell_type": "markdown",
   "id": "81887813",
   "metadata": {},
   "source": [
    "### Scatter Plots\n",
    "Reference: https://matplotlib.org/stable/gallery/lines_bars_and_markers/scatter_custom_symbol.html#sphx-glr-gallery-lines-bars-and-markers-scatter-custom-symbol-py"
   ]
  },
  {
   "cell_type": "code",
   "execution_count": null,
   "id": "69e0b0f4",
   "metadata": {},
   "outputs": [],
   "source": [
    "fig, ax = plt.subplots()\n",
    "ax.scatter(x1,x2)\n",
    "ax.set_xlabel('x1')\n",
    "ax.set_ylabel('x2')\n",
    "plt.show()"
   ]
  },
  {
   "cell_type": "markdown",
   "id": "b8889053",
   "metadata": {},
   "source": [
    "### Box Plots\n",
    "These will be especially useful during the Plan phase when you do exploratory data analysis\n",
    "\n",
    "Reference: https://matplotlib.org/stable/gallery/statistics/boxplot_demo.html#sphx-glr-gallery-statistics-boxplot-demo-py"
   ]
  },
  {
   "cell_type": "code",
   "execution_count": null,
   "id": "8c06f5fe",
   "metadata": {},
   "outputs": [],
   "source": [
    "fig, ax = plt.subplots()\n",
    "ax.boxplot([x1,x2])\n",
    "ax.set_xticklabels(['x1','x2'])\n",
    "plt.show()"
   ]
  }
 ],
 "metadata": {
  "kernelspec": {
   "display_name": "Python 3 (ipykernel)",
   "language": "python",
   "name": "python3"
  },
  "language_info": {
   "codemirror_mode": {
    "name": "ipython",
    "version": 3
   },
   "file_extension": ".py",
   "mimetype": "text/x-python",
   "name": "python",
   "nbconvert_exporter": "python",
   "pygments_lexer": "ipython3",
   "version": "3.11.9"
  }
 },
 "nbformat": 4,
 "nbformat_minor": 5
}
