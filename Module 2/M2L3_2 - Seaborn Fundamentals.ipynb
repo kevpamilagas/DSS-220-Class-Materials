{
 "cells": [
  {
   "attachments": {},
   "cell_type": "markdown",
   "id": "8900a2d2",
   "metadata": {},
   "source": [
    "## Seaborn Fundamentals\n",
    "Welcome to the fundamentals of plotting data in Matplotlib.  We will be covering here how to visualize data using the Matplotlib library.  \n",
    "\n",
    "References to this library is:\n",
    "\n",
    "**Seaborn** : https://seaborn.pydata.org/tutorial/function_overview.html\n",
    "\n",
    "Below are the different types of plots that Seaborn can do  \n",
    "\n",
    "<div>\n",
    "<img src = \"Seaborn_function_overview_8_0.png\" width=\"400\">\n",
    "</div>\n",
    "\n",
    "Seaborn uses Matplotlib, so a lot of the functionality from that library will be re-used here.  "
   ]
  },
  {
   "cell_type": "code",
   "execution_count": null,
   "id": "4fb35898",
   "metadata": {},
   "outputs": [],
   "source": [
    "# Import libraries:\n",
    "import numpy as np\n",
    "import pandas as pd\n",
    "import matplotlib.pyplot as plt\n",
    "import seaborn as sns\n"
   ]
  },
  {
   "cell_type": "code",
   "execution_count": null,
   "id": "01de5e82",
   "metadata": {},
   "outputs": [],
   "source": [
    "# Import data\n",
    "df = pd.read_csv(\"housing.csv\")\n",
    "df.head(2)"
   ]
  },
  {
   "cell_type": "code",
   "execution_count": null,
   "id": "f1c12d8b",
   "metadata": {},
   "outputs": [],
   "source": [
    "sns.displot(kind=\"hist\", data=df, x='housing_median_age')\n",
    "plt.show()"
   ]
  },
  {
   "cell_type": "markdown",
   "id": "2bc0fa6e",
   "metadata": {},
   "source": [
    "Notice in the above plots that the titles and axes labels are auto_generated.  "
   ]
  },
  {
   "cell_type": "code",
   "execution_count": null,
   "id": "86e8f1cd",
   "metadata": {},
   "outputs": [],
   "source": [
    "sns.displot(kind=\"hist\", data=df, x='housing_median_age', hue='ocean_proximity')\n",
    "plt.show()"
   ]
  },
  {
   "cell_type": "code",
   "execution_count": null,
   "id": "bc274d78",
   "metadata": {},
   "outputs": [],
   "source": [
    "sns.displot(kind=\"hist\", data=df, x='housing_median_age', col='ocean_proximity')\n",
    "plt.show()"
   ]
  },
  {
   "cell_type": "markdown",
   "id": "d8be2bcc",
   "metadata": {},
   "source": [
    "### Scatter Plots"
   ]
  },
  {
   "cell_type": "code",
   "execution_count": null,
   "id": "e4bdbb6b",
   "metadata": {},
   "outputs": [],
   "source": [
    "sns.relplot(kind=\"scatter\", data=df, x=\"median_income\", y=\"median_house_value\")\n",
    "plt.show()"
   ]
  },
  {
   "cell_type": "code",
   "execution_count": null,
   "id": "782647c9",
   "metadata": {},
   "outputs": [],
   "source": [
    "sns.relplot(kind=\"scatter\", data=df, x=\"median_income\", y=\"median_house_value\", col=\"ocean_proximity\", hue=\"ocean_proximity\")\n",
    "plt.show()"
   ]
  },
  {
   "cell_type": "markdown",
   "id": "f65a09bc",
   "metadata": {},
   "source": [
    "### Heatmap\n",
    "Heatmaps can be combined with correlation to show how variables are related to each other"
   ]
  },
  {
   "cell_type": "code",
   "execution_count": null,
   "id": "230f1c07",
   "metadata": {},
   "outputs": [],
   "source": [
    "fig,ax = plt.subplots()\n",
    "ax = sns.heatmap(df.corr(numeric_only=True),annot=True)"
   ]
  },
  {
   "cell_type": "markdown",
   "id": "cf2a1c87",
   "metadata": {},
   "source": [
    "### Pairplot\n",
    "Also useful in comparing how different variables are related, using a scatter plot"
   ]
  },
  {
   "cell_type": "code",
   "execution_count": null,
   "id": "4fef3fe4",
   "metadata": {},
   "outputs": [],
   "source": [
    "sns.pairplot(data=df.iloc[:,4:],height=2)\n",
    "plt.show()"
   ]
  },
  {
   "cell_type": "code",
   "execution_count": null,
   "id": "55bd1e07-b9c5-4210-aba8-921e4f8ec3fa",
   "metadata": {},
   "outputs": [],
   "source": []
  }
 ],
 "metadata": {
  "kernelspec": {
   "display_name": "Python 3 (ipykernel)",
   "language": "python",
   "name": "python3"
  },
  "language_info": {
   "codemirror_mode": {
    "name": "ipython",
    "version": 3
   },
   "file_extension": ".py",
   "mimetype": "text/x-python",
   "name": "python",
   "nbconvert_exporter": "python",
   "pygments_lexer": "ipython3",
   "version": "3.11.9"
  }
 },
 "nbformat": 4,
 "nbformat_minor": 5
}
