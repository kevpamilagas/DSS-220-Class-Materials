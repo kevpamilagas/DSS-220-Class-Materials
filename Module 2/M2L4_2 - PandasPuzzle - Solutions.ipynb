{
 "cells": [
  {
   "cell_type": "markdown",
   "id": "3db81c7d",
   "metadata": {},
   "source": [
    "## Word Search\n",
    "\n",
    "Welcome to the Data Science Workflow word-search exercise.  Your task is to use iloc() or loc() functions to print each stage of the data science workflow, presented below without spaces:\n",
    "* ASKQUESTIONS\n",
    "* PREPAREANDPLAN\n",
    "* PROCESS\n",
    "* ANALYZE\n",
    "* SHAREANDACT"
   ]
  },
  {
   "cell_type": "code",
   "execution_count": null,
   "id": "4fa04f84",
   "metadata": {},
   "outputs": [],
   "source": [
    "import pandas as pd"
   ]
  },
  {
   "cell_type": "code",
   "execution_count": null,
   "id": "f3f03775",
   "metadata": {},
   "outputs": [],
   "source": [
    "df = pd.read_csv(\"PandasPuzzle.csv\")\n",
    "print(df)"
   ]
  },
  {
   "cell_type": "code",
   "execution_count": null,
   "id": "e792b4d1",
   "metadata": {},
   "outputs": [],
   "source": [
    "# ASKQUESTIONS\n",
    "#print(df.iloc[11, 3:15])\n",
    "#print(df.loc[11,['C4','C5','C6','C7','C8','C9','C10','C11','C12','C13','C14','C15']])"
   ]
  },
  {
   "cell_type": "code",
   "execution_count": null,
   "id": "8aac82ff",
   "metadata": {},
   "outputs": [],
   "source": [
    "# PREPAREANDPLAN\n",
    "#print(df.iloc[6,0:14])\n",
    "#print(df.loc[6,['C1','C2','C3','C4','C5','C6','C7','C8','C9','C10','C11','C12','C13','C14']])"
   ]
  },
  {
   "cell_type": "code",
   "execution_count": null,
   "id": "0263b953",
   "metadata": {},
   "outputs": [],
   "source": [
    "# PROCESS\n",
    "#print(df.iloc[8,3:10])\n",
    "#print(df.loc[8,['C4','C5','C6','C7','C8','C9','C10']])"
   ]
  },
  {
   "cell_type": "code",
   "execution_count": null,
   "id": "5016b370",
   "metadata": {},
   "outputs": [],
   "source": [
    "# ANALYZE\n",
    "#print(df.iloc[1:7,15])\n",
    "#print(df.loc[1:7,'C15'])"
   ]
  },
  {
   "cell_type": "code",
   "execution_count": null,
   "id": "832b2456",
   "metadata": {},
   "outputs": [],
   "source": [
    "# SHAREANDACT\n",
    "#print(df.iloc[1,2:13])\n",
    "#print(df.loc[1,['C3','C4','C5','C6','C7','C8','C9','C10','C11','C12','C13']])"
   ]
  }
 ],
 "metadata": {
  "kernelspec": {
   "display_name": "Python 3 (ipykernel)",
   "language": "python",
   "name": "python3"
  },
  "language_info": {
   "codemirror_mode": {
    "name": "ipython",
    "version": 3
   },
   "file_extension": ".py",
   "mimetype": "text/x-python",
   "name": "python",
   "nbconvert_exporter": "python",
   "pygments_lexer": "ipython3",
   "version": "3.11.9"
  }
 },
 "nbformat": 4,
 "nbformat_minor": 5
}
