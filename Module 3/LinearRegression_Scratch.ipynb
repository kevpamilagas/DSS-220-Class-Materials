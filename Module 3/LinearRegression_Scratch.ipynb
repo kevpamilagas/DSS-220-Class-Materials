{
 "cells": [
  {
   "cell_type": "code",
   "execution_count": null,
   "id": "d1f7ea5b",
   "metadata": {},
   "outputs": [],
   "source": [
    "# Import libraries:\n",
    "import numpy as np\n",
    "import pandas as pd\n",
    "import matplotlib.pyplot as plt\n",
    "import seaborn as sns\n",
    "\n",
    "# in case you choose to work on these and want to see the answers\n",
    "import sys\n",
    "sys.path.append('..')\n",
    "from CuriosityPointsAnswers import * "
   ]
  },
  {
   "cell_type": "code",
   "execution_count": null,
   "id": "3e90511d",
   "metadata": {},
   "outputs": [],
   "source": [
    "# make data\n",
    "x = np.linspace(0, np.pi, 100)\n",
    "y = 4 + 2 * np.sin(2 * x)\n",
    "\n",
    "# plot\n",
    "fig, ax = plt.subplots()\n",
    "\n",
    "ax.plot(x, y, linewidth=2.0, label='Original')\n",
    "\n",
    "\n",
    "from sklearn.linear_model import LinearRegression\n",
    "x = x[:, np.newaxis]\n",
    "reg = LinearRegression().fit(x, y)\n",
    "y_pred = reg.predict(x)\n",
    "\n",
    "ax.plot(x,np.transpose(y_pred),color='r',label='Predicted')\n",
    "ax.legend()\n",
    "plt.savefig('BiasExample_LR.png')\n",
    "plt.show()"
   ]
  },
  {
   "cell_type": "code",
   "execution_count": null,
   "id": "c53f010a",
   "metadata": {},
   "outputs": [],
   "source": []
  }
 ],
 "metadata": {
  "kernelspec": {
   "display_name": "Python 3 (ipykernel)",
   "language": "python",
   "name": "python3"
  },
  "language_info": {
   "codemirror_mode": {
    "name": "ipython",
    "version": 3
   },
   "file_extension": ".py",
   "mimetype": "text/x-python",
   "name": "python",
   "nbconvert_exporter": "python",
   "pygments_lexer": "ipython3",
   "version": "3.11.9"
  }
 },
 "nbformat": 4,
 "nbformat_minor": 5
}
