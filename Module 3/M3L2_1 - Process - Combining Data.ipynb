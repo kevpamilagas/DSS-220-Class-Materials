{
 "cells": [
  {
   "cell_type": "markdown",
   "id": "a1abd61d",
   "metadata": {},
   "source": [
    "# Process\n",
    "In this notebook, we'll practice how to combine datasets.  We'll use the Fitbit dataset from Kaggle.com found here: https://www.kaggle.com/datasets/arashnic/fitbit?resource=download"
   ]
  },
  {
   "cell_type": "code",
   "execution_count": null,
   "id": "8d438811",
   "metadata": {},
   "outputs": [],
   "source": [
    "# Import libraries:\n",
    "import numpy as np\n",
    "import pandas as pd\n",
    "import matplotlib.pyplot as plt\n",
    "import seaborn as sns\n",
    "\n",
    "# Workshop Functions\n",
    "import sys\n",
    "sys.path.append('..')\n",
    "from Wksp722_functions import * "
   ]
  },
  {
   "cell_type": "code",
   "execution_count": null,
   "id": "ecc80cfd",
   "metadata": {},
   "outputs": [],
   "source": [
    "Activity = pd.read_csv('dailyActivity_merged.csv')\n",
    "Sleep = pd.read_csv('sleepDay_merged.csv')"
   ]
  },
  {
   "cell_type": "code",
   "execution_count": null,
   "id": "a333a249",
   "metadata": {},
   "outputs": [],
   "source": [
    "Activity.head()"
   ]
  },
  {
   "cell_type": "code",
   "execution_count": null,
   "id": "a9aff0c9",
   "metadata": {},
   "outputs": [],
   "source": [
    "Sleep.head()"
   ]
  },
  {
   "cell_type": "markdown",
   "id": "edeb5a1d",
   "metadata": {},
   "source": [
    "Both tables have an 'Id' column which corresponds to the user, and an ActivityDate/SleepDay that corresponds to the date of the recording.  Neither are unique.  But in combination, they form unique qualifiers.  \n",
    "\n",
    "First, let's split SleepDay into 2 columns, one for date, and another for time.  "
   ]
  },
  {
   "cell_type": "markdown",
   "id": "24fad345",
   "metadata": {},
   "source": [
    "#### Sleep Table Processing"
   ]
  },
  {
   "cell_type": "code",
   "execution_count": null,
   "id": "8a03bf02",
   "metadata": {},
   "outputs": [],
   "source": [
    "Sleep[['ActivityDate', 'Time']] = Sleep['SleepDay'].str.split(' ',expand=True)\n",
    "Sleep.drop(['SleepDay','Time'], axis=1, inplace=True) # Drop unecessary columns"
   ]
  },
  {
   "cell_type": "code",
   "execution_count": null,
   "id": "4ec28148",
   "metadata": {},
   "outputs": [],
   "source": [
    "Sleep.info()"
   ]
  },
  {
   "cell_type": "code",
   "execution_count": null,
   "id": "125de045",
   "metadata": {},
   "outputs": [],
   "source": [
    "# Convert 'Id' column to String\n",
    "Sleep['Id'] = Sleep['Id'].apply(str)\n",
    "\n",
    "# Combine Id and ActivityDate columns\n",
    "Sleep['Key'] = Sleep['ActivityDate'].str.cat(Sleep['Id'], sep=' ')"
   ]
  },
  {
   "cell_type": "code",
   "execution_count": null,
   "id": "2444e84b",
   "metadata": {},
   "outputs": [],
   "source": [
    "Sleep.head()"
   ]
  },
  {
   "cell_type": "markdown",
   "id": "62305206",
   "metadata": {},
   "source": [
    "#### Activity Table Processing"
   ]
  },
  {
   "cell_type": "code",
   "execution_count": null,
   "id": "37105640",
   "metadata": {},
   "outputs": [],
   "source": [
    "Activity.head()"
   ]
  },
  {
   "cell_type": "code",
   "execution_count": null,
   "id": "b52f7365",
   "metadata": {},
   "outputs": [],
   "source": [
    "Activity['Id'] = Activity['Id'].apply(str) #convert Id column to String\n",
    "\n",
    "Activity['Key'] = Activity['ActivityDate'].str.cat(Activity['Id'], sep=' ')\n",
    "Activity.head()"
   ]
  },
  {
   "cell_type": "code",
   "execution_count": null,
   "id": "3a37b5b3",
   "metadata": {},
   "outputs": [],
   "source": [
    "CombinedTable = Activity.merge(Sleep, how='inner', on='Key')\n",
    "CombinedTable.head()"
   ]
  },
  {
   "cell_type": "markdown",
   "id": "7abd0f5b",
   "metadata": {},
   "source": [
    "Now we can filter and group across all columns, thereby expanding the range of inquiries we can explore.  Let's start with a correlation heatmap:"
   ]
  },
  {
   "cell_type": "code",
   "execution_count": null,
   "id": "9c271b9c",
   "metadata": {},
   "outputs": [],
   "source": [
    "# first, let's drop some tables that won't likely be correlated\n",
    "temp1 = CombinedTable.drop(['Id_x','ActivityDate_x','Id_y','ActivityDate_y'],axis=1)\n",
    "\n",
    "sns.heatmap(temp1.corr(numeric_only=True))"
   ]
  },
  {
   "cell_type": "markdown",
   "id": "f2d8e2db",
   "metadata": {},
   "source": [
    "When looking between the tables, we see that there is a very strong correlation between **TotalMinutesAsleep** and **SedentaryMinutes**"
   ]
  },
  {
   "cell_type": "code",
   "execution_count": null,
   "id": "b3aaa612",
   "metadata": {},
   "outputs": [],
   "source": [
    "sns.lmplot(data=CombinedTable, x='TotalMinutesAsleep',y='SedentaryMinutes')\n",
    "plt.show()"
   ]
  },
  {
   "cell_type": "markdown",
   "id": "fc0ad259",
   "metadata": {},
   "source": [
    "We can take a deeper dive by binning the **SedentaryMinutes** and then plotting the average for both columns for each of these bins.  This provides a discrete view of the above scatter plot"
   ]
  },
  {
   "cell_type": "code",
   "execution_count": null,
   "id": "dd94f2c2",
   "metadata": {},
   "outputs": [],
   "source": [
    "temp2 = CombinedTable[['TotalMinutesAsleep','SedentaryMinutes']].copy()\n",
    "temp2.head()"
   ]
  },
  {
   "cell_type": "code",
   "execution_count": null,
   "id": "e3c33d5b",
   "metadata": {},
   "outputs": [],
   "source": [
    "temp2['SedentaryMinutesGroups'] = pd.qcut(temp2['SedentaryMinutes'],10)\n",
    "temp2.head()"
   ]
  },
  {
   "cell_type": "code",
   "execution_count": null,
   "id": "0d249022",
   "metadata": {},
   "outputs": [],
   "source": [
    "temp2.groupby('SedentaryMinutesGroups').mean()\n",
    "summaryTable = temp2.groupby('SedentaryMinutesGroups').mean()\n",
    "display(summaryTable)"
   ]
  },
  {
   "cell_type": "code",
   "execution_count": null,
   "id": "b881c794",
   "metadata": {},
   "outputs": [],
   "source": [
    "sns.lmplot(data=summaryTable, x='TotalMinutesAsleep',y='SedentaryMinutes')\n",
    "plt.show()"
   ]
  },
  {
   "cell_type": "code",
   "execution_count": null,
   "id": "34157e8d-7372-42b2-b645-2a72325056c8",
   "metadata": {},
   "outputs": [],
   "source": []
  }
 ],
 "metadata": {
  "kernelspec": {
   "display_name": "Python 3 (ipykernel)",
   "language": "python",
   "name": "python3"
  },
  "language_info": {
   "codemirror_mode": {
    "name": "ipython",
    "version": 3
   },
   "file_extension": ".py",
   "mimetype": "text/x-python",
   "name": "python",
   "nbconvert_exporter": "python",
   "pygments_lexer": "ipython3",
   "version": "3.11.9"
  }
 },
 "nbformat": 4,
 "nbformat_minor": 5
}
