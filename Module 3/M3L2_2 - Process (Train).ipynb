{
 "cells": [
  {
   "cell_type": "markdown",
   "id": "6992ca24",
   "metadata": {},
   "source": [
    "# Process\n",
    "\n",
    "Here we will process the titanic data set.  We will look for \n",
    "* Missing Data\n",
    "* Data outliers"
   ]
  },
  {
   "cell_type": "markdown",
   "id": "59178200",
   "metadata": {},
   "source": [
    "### Part 1: Missing Data\n",
    "First let's load the libraries and data"
   ]
  },
  {
   "cell_type": "code",
   "execution_count": null,
   "id": "7b4df78d",
   "metadata": {},
   "outputs": [],
   "source": [
    "# Import libraries:\n",
    "import numpy as np\n",
    "import pandas as pd\n",
    "import matplotlib.pyplot as plt\n",
    "import seaborn as sns\n",
    "sns.set()\n",
    "\n",
    "# Workshop Functions\n",
    "import sys\n",
    "sys.path.append('..')\n",
    "from Wksp722_functions import * "
   ]
  },
  {
   "cell_type": "code",
   "execution_count": null,
   "id": "dd793381",
   "metadata": {},
   "outputs": [],
   "source": [
    "df = pd.read_csv(\"titanic_train.csv\")\n",
    "df.head(2)"
   ]
  },
  {
   "cell_type": "markdown",
   "id": "f023cd99",
   "metadata": {},
   "source": [
    "As we did in a previous lecture, let's reset the index to ***PassengerId***"
   ]
  },
  {
   "cell_type": "code",
   "execution_count": null,
   "id": "08e21b51",
   "metadata": {},
   "outputs": [],
   "source": [
    "df.set_index('PassengerId', inplace=True)"
   ]
  },
  {
   "cell_type": "markdown",
   "id": "09f0070e",
   "metadata": {},
   "source": [
    "Now let's start by looking for missing data"
   ]
  },
  {
   "cell_type": "code",
   "execution_count": null,
   "id": "9c76a6b7",
   "metadata": {},
   "outputs": [],
   "source": [
    "df.isnull().sum()"
   ]
  },
  {
   "cell_type": "markdown",
   "id": "1bea1998",
   "metadata": {},
   "source": [
    "With only 2 passengers in \"Embarked\" status showing missing, we will drop them from the dataframe"
   ]
  },
  {
   "cell_type": "code",
   "execution_count": null,
   "id": "75198c11",
   "metadata": {},
   "outputs": [],
   "source": [
    "print(df.shape) # size of df before \n",
    "df = df.loc[df.loc[:,'Embarked'].notnull()]\n",
    "print(df.shape) # size of df after"
   ]
  },
  {
   "cell_type": "code",
   "execution_count": null,
   "id": "ba7dd962",
   "metadata": {},
   "outputs": [],
   "source": [
    "plt.figure(figsize=(10,6))\n",
    "sns.heatmap(df.isna())\n",
    "plt.ylabel('Passenger ID')\n",
    "plt.show()"
   ]
  },
  {
   "cell_type": "markdown",
   "id": "b38b7530",
   "metadata": {},
   "source": [
    "\"Cabin\" stands for the cabin number or the room number on the ship.  \n",
    "\n",
    "We can hypothesize that location on the ship is not a strong correlation to whether they survived or not.  \n",
    "\n",
    "Other factors such as the passenger's wealth, which may be related to their Cabin type, can be deduced from other variables such as 'Pclass', and 'Fare'.  \n",
    "\n",
    "So we will remove this column from the dataframe"
   ]
  },
  {
   "cell_type": "code",
   "execution_count": null,
   "id": "8c4be363",
   "metadata": {},
   "outputs": [],
   "source": [
    "df.drop(['Cabin'], axis=1, inplace=True)\n",
    "df.head()"
   ]
  },
  {
   "cell_type": "code",
   "execution_count": null,
   "id": "af3da5cb",
   "metadata": {},
   "outputs": [],
   "source": [
    "df.describe()\n",
    "\n",
    "## If we wanted to replace all NAN's with the median value, use this code:\n",
    "#temp = df.copy()\n",
    "#temp['Age'] = temp['Age'].fillna(temp['Age'].median())\n",
    "#temp.isnull().sum()"
   ]
  },
  {
   "cell_type": "markdown",
   "id": "5980bbc7",
   "metadata": {},
   "source": [
    "Now let's theorize how to replace the missing ages.  A glance at the names shows that each name has a salutation such as \"Mr.\", \"Mrs.\", \"Miss\", \"Master\", etc.  It is a reasonable assumption that some salutations are correlated to age.  For instance, \n",
    "* \"Miss\" would generally be younger than a \"Mrs.\".  \n",
    "* \"Master\" (salutation for a small child) would be younger than a \"Mr.\"\n",
    "\n",
    "So let's find the median age for each salutation and then replace missing age values with that for the passenger's respective category"
   ]
  },
  {
   "cell_type": "markdown",
   "id": "4e61ec34",
   "metadata": {},
   "source": [
    "Split the strings in the Name column into seperate names\n",
    "\n",
    "Using the n=3 option restricts the splitting to 4 sub-strings.  Some people have very long names with double first names, and we are only interested in the 2nd column\n",
    "\n",
    "Also using the \"expand=True\" option, we get the resulting strings back as separate columns, which makes accessing the data easier.  "
   ]
  },
  {
   "cell_type": "code",
   "execution_count": null,
   "id": "7dcbcaa5",
   "metadata": {},
   "outputs": [],
   "source": [
    "split_name = df.loc[:,'Name'].str.split(n=3, expand=True)"
   ]
  },
  {
   "cell_type": "code",
   "execution_count": null,
   "id": "500cb159",
   "metadata": {},
   "outputs": [],
   "source": [
    "# let's see the list of salutations\n",
    "df.loc[:,'Salutation']=split_name[1]"
   ]
  },
  {
   "cell_type": "code",
   "execution_count": null,
   "id": "70a78049",
   "metadata": {},
   "outputs": [],
   "source": [
    "#  Count the number of passengers for each salutation\n",
    "df.groupby('Salutation').count().loc[:,'Name']"
   ]
  },
  {
   "cell_type": "code",
   "execution_count": null,
   "id": "6574ce06",
   "metadata": {},
   "outputs": [],
   "source": [
    "# Now let's calculate the median age for each salutation\n",
    "# But first let's filter out the entries that have null values in the \"Age\" column\n",
    "df_clean = df.loc[pd.notna(df.loc[:,'Age']),:]\n",
    "df_clean.head()\n",
    "\n",
    "### Uncomment the code below to verify all null records the \"Age\" column were removed\n",
    "# df_clean['Age'].isnull().sum()"
   ]
  },
  {
   "cell_type": "code",
   "execution_count": null,
   "id": "d89c4f7e",
   "metadata": {},
   "outputs": [],
   "source": [
    "# Now let's calculate the median_age per salutation\n",
    "median_age = df_clean.groupby('Salutation').median(numeric_only=True).loc[:,'Age']\n",
    "print((median_age))"
   ]
  },
  {
   "cell_type": "markdown",
   "id": "64fb412e",
   "metadata": {},
   "source": [
    "Now go back to the original dataframe and replace any missing values in the \"Age\" column with their respective median values"
   ]
  },
  {
   "cell_type": "code",
   "execution_count": null,
   "id": "1654d1dd",
   "metadata": {},
   "outputs": [],
   "source": [
    "df.loc[:,'Age'].isnull().sum()"
   ]
  },
  {
   "cell_type": "code",
   "execution_count": null,
   "id": "e9c20570",
   "metadata": {},
   "outputs": [],
   "source": [
    "for ind in df.index:\n",
    "    if np.isnan(df.loc[ind,'Age']): \n",
    "        df.loc[ind,'Age'] = median_age[df.loc[ind,'Salutation']]"
   ]
  },
  {
   "cell_type": "markdown",
   "id": "e484ae90",
   "metadata": {},
   "source": [
    "***Curiosity Points (10 points)***\n",
    "Use Method Chaining to replace the for loop above.  Verify that the resulting dataframe is the same as that with the for loop.\n",
    "(Hint) use the ***index*** and ***map*** dataframe functions\n",
    "\n",
    "If you're stuck and want to see one possible solution, run the code below.  Remove the '#' and then run"
   ]
  },
  {
   "cell_type": "code",
   "execution_count": null,
   "id": "7bb2d0d0",
   "metadata": {},
   "outputs": [],
   "source": [
    "# M3L2_1()"
   ]
  },
  {
   "cell_type": "markdown",
   "id": "f4246073",
   "metadata": {},
   "source": [
    "### Part 2: Outliers"
   ]
  },
  {
   "cell_type": "code",
   "execution_count": null,
   "id": "4e65af85",
   "metadata": {},
   "outputs": [],
   "source": [
    "df.head()"
   ]
  },
  {
   "cell_type": "markdown",
   "id": "21309316",
   "metadata": {},
   "source": [
    "Reviewing the current dataframe, we see that we do not need to consider the Survived, Pclass, Name, Sex, Ticket, and Embarked columns for outlier analysis.  This is because their the columns have unique values for each passenger (e.g. Name, Ticket) or there are too few categories to warrant an analysis (e.g. Survived, Pclass, Sex, Embarked).  We will examine these later.   \n",
    "\n",
    "We also can not use the boxplot function for Salutation, as it requires a numeric number and it is not possible to assign a nominal order to the values in this column.  However, earlier in this exercise we saw the distribution of each.  "
   ]
  },
  {
   "cell_type": "code",
   "execution_count": null,
   "id": "099d043d",
   "metadata": {},
   "outputs": [],
   "source": [
    "# Review the Age column\n",
    "sns.boxplot(y=df.loc[:,'Age'])\n",
    "plt.show()\n",
    "\n",
    "# We see several outliers over 55 at the top of the boxplot.  These are outliers but they are likely correctly recorded.  \n",
    "# We will keep these records in the datafram and we can see who they are:\n",
    "print('Number of Age outliers are: ', df.loc[df.loc[:,'Age']>55 , 'Name'].count())"
   ]
  },
  {
   "cell_type": "code",
   "execution_count": null,
   "id": "87ff07b3",
   "metadata": {},
   "outputs": [],
   "source": [
    "#SibSp is the number of siblings and spouse that the passenger had on the titanic.  \n",
    "sns.boxplot(y=df['SibSp'])\n",
    "plt.show()\n",
    "\n",
    "SibSpSurvivors = df.loc[df.loc[:,'SibSp']>2 , ['SibSp','Survived']]\n",
    "Sorted_SibSpSurvivors = SibSpSurvivors.sort_values('SibSp')\n",
    "print(Sorted_SibSpSurvivors)"
   ]
  },
  {
   "cell_type": "markdown",
   "id": "5a5d9833",
   "metadata": {},
   "source": [
    "We see that most passengers had either 1 or 0 siblings or spouses.  One big outlier here is a family of 8 none of whom survived.  \n",
    "\n",
    "Next we can look at the Parch column that states the number of Parents or Children on board.  This will be very similar to the SibSp column"
   ]
  },
  {
   "cell_type": "code",
   "execution_count": null,
   "id": "72ac1cb4",
   "metadata": {},
   "outputs": [],
   "source": [
    "#SibSp is the number of siblings and spouse that the passenger had on the titanic.  \n",
    "sns.boxplot(y=df.loc[:,'Parch'])\n",
    "plt.show()"
   ]
  },
  {
   "cell_type": "markdown",
   "id": "a507e544",
   "metadata": {},
   "source": [
    "Here the boxplot outlines that most passengers has Parch values of 0.  "
   ]
  },
  {
   "cell_type": "code",
   "execution_count": null,
   "id": "393e56a6",
   "metadata": {},
   "outputs": [],
   "source": [
    "sns.boxplot(y=df.loc[:,'Fare'])\n",
    "plt.show()"
   ]
  },
  {
   "cell_type": "markdown",
   "id": "5a86f272",
   "metadata": {},
   "source": [
    "This boxplot is interesting.  It characterizes outlier fare as higher than $62.  However, many passengers paid much more, probably for higher class lodging.  Let's see the range of values grouped by class\n",
    "\n",
    "The boxplots below show that most of the largest outliers in fare came from First Class, which is expected.  "
   ]
  },
  {
   "cell_type": "code",
   "execution_count": null,
   "id": "d6dd0c34",
   "metadata": {},
   "outputs": [],
   "source": [
    "fig, axes = plt.subplots(nrows=1,ncols=3)\n",
    "axes[0].boxplot(df.loc[df.loc[:,'Pclass']==1 , 'Fare'])\n",
    "axes[1].boxplot(df.loc[df.loc[:,'Pclass']==2 , 'Fare'])\n",
    "axes[2].boxplot(df.loc[df.loc[:,'Pclass']==3 , 'Fare'])\n",
    "axes[0].set_title('First Class')\n",
    "axes[1].set_title('Second Class')\n",
    "axes[2].set_title('Third Class')\n",
    "plt.show()"
   ]
  },
  {
   "cell_type": "markdown",
   "id": "6ebeefb6",
   "metadata": {},
   "source": [
    "### Part 3: Exploratory Data Analysis\n",
    "Let's dive a little deeper before heading to model building to see if certain factors were better for survival\n",
    "\n",
    "We learned from the Titanic movie (though fiction) that women and children were allowed on life boats first.  Does the data confirm this?"
   ]
  },
  {
   "cell_type": "code",
   "execution_count": null,
   "id": "c6238be1",
   "metadata": {},
   "outputs": [],
   "source": [
    "totalPassengers = df.shape[0]\n",
    "\n",
    "WomenSurvived = df.loc[(df.loc[:,'Survived']==1) & (df.loc[:,'Sex']=='female') , 'Name'].count()\n",
    "MenSurvived = df.loc[(df.loc[:,'Survived']==1) & (df.loc[:,'Sex']=='male') , 'Name'].count() \n",
    "\n",
    "PcntWomenSurvived = 100 * WomenSurvived / totalPassengers\n",
    "PcntMenSurvived = 100 * MenSurvived / totalPassengers\n",
    "\n",
    "print(PcntWomenSurvived, PcntMenSurvived)"
   ]
  },
  {
   "cell_type": "markdown",
   "id": "86bde1e1",
   "metadata": {},
   "source": [
    "***Curiosity Points (5 Points)***\n",
    "Using the ***groupby*** function, recreate the analysis above on percent of passengers survived based on their sex.  \n",
    "\n",
    "If you're stuck and want to see one possible solution, run the code below.  Remove the '#' and then run"
   ]
  },
  {
   "cell_type": "code",
   "execution_count": null,
   "id": "dd4fccc2",
   "metadata": {},
   "outputs": [],
   "source": [
    "# M3L2_2()"
   ]
  },
  {
   "cell_type": "markdown",
   "id": "0575a3d7",
   "metadata": {},
   "source": [
    "***Curiosity Points (5 Points)***\n",
    "Using the ***groupby*** function, what percentage of each class survived and was that a significant distinguisher for survival?\n",
    "\n",
    "If you're stuck and want to see one possible solution, run the code below.  Remove the '#' and then run"
   ]
  },
  {
   "cell_type": "code",
   "execution_count": null,
   "id": "fd19e7f9",
   "metadata": {},
   "outputs": [],
   "source": [
    "# M3L2_3()"
   ]
  },
  {
   "cell_type": "markdown",
   "id": "05f5774d",
   "metadata": {},
   "source": [
    "Let's look at histograms of age of those that survived to see if younger passengers were more likely to survive.  "
   ]
  },
  {
   "cell_type": "code",
   "execution_count": null,
   "id": "21270c62",
   "metadata": {},
   "outputs": [],
   "source": [
    "AgeSurvived = df.loc[df.loc[:,'Survived']==1 , 'Age']\n",
    "AgeNotSurvived = df.loc[df.loc[:,'Survived']==0 , 'Age']\n",
    "\n",
    "fig, axes = plt.subplots(figsize=(15,4))\n",
    "sns.histplot(x=df.loc[:,'Age'],hue=df.loc[:,'Survived'], kde=True, bins=20)\n",
    "\n",
    "plt.show()"
   ]
  },
  {
   "cell_type": "code",
   "execution_count": null,
   "id": "07290aef",
   "metadata": {},
   "outputs": [],
   "source": [
    "\n",
    "survivedCounts, binEdges = np.histogram(AgeSurvived,bins=16)\n",
    "notSurvivedCounts, binEdges2 = np.histogram(AgeNotSurvived,bins=16)\n",
    "print(binEdges)\n",
    "\n",
    "pcntCounts = survivedCounts/(survivedCounts+notSurvivedCounts)*100\n",
    "print(pcntCounts)"
   ]
  },
  {
   "cell_type": "code",
   "execution_count": null,
   "id": "d0295b36",
   "metadata": {},
   "outputs": [],
   "source": [
    "fig, ax = plt.subplots()\n",
    "ax.stem(binEdges[1:], pcntCounts)\n",
    "ax.set_title('Survival Rate Per Age Group')\n",
    "ax.set_xlabel('Age')\n",
    "ax.set_ylabel('Survival Rate')\n",
    "plt.show()"
   ]
  },
  {
   "cell_type": "markdown",
   "id": "86312f7f",
   "metadata": {},
   "source": [
    "We see from this chart that a higher percentage of younger passengers survived the titanic.  "
   ]
  },
  {
   "cell_type": "markdown",
   "id": "be35f369",
   "metadata": {},
   "source": [
    "***Curiosity Points (5 Points)*** Check out different notebooks on Kaggle.com to see how other data scientists have explored this data.  \n",
    "\n",
    "Full list is here: https://www.kaggle.com/competitions/titanic/code?competitionId=3136&sortBy=voteCount\n",
    "\n",
    "One good example is here: https://www.kaggle.com/code/ash316/eda-to-prediction-dietanic"
   ]
  },
  {
   "cell_type": "markdown",
   "id": "06b181f9",
   "metadata": {},
   "source": [
    "### Save cleaned dataset"
   ]
  },
  {
   "cell_type": "code",
   "execution_count": null,
   "id": "596d7a16",
   "metadata": {},
   "outputs": [],
   "source": [
    "df.to_csv('titanic_train_cleaned.csv')\n",
    "median_age.to_csv('median_age.csv')"
   ]
  },
  {
   "cell_type": "markdown",
   "id": "219a8a4e",
   "metadata": {},
   "source": [
    "### Repeat for titanic_test.csv\n",
    "Go back to the top of the dataset"
   ]
  }
 ],
 "metadata": {
  "kernelspec": {
   "display_name": "Python 3 (ipykernel)",
   "language": "python",
   "name": "python3"
  },
  "language_info": {
   "codemirror_mode": {
    "name": "ipython",
    "version": 3
   },
   "file_extension": ".py",
   "mimetype": "text/x-python",
   "name": "python",
   "nbconvert_exporter": "python",
   "pygments_lexer": "ipython3",
   "version": "3.11.9"
  }
 },
 "nbformat": 4,
 "nbformat_minor": 5
}
