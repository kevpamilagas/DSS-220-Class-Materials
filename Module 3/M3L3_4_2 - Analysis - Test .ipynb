{
 "cells": [
  {
   "cell_type": "markdown",
   "id": "6193ff26",
   "metadata": {},
   "source": [
    "## Process Titanic Test Data\n",
    "Submit predictions to Kaggle.com for an estimate of accuracy"
   ]
  },
  {
   "cell_type": "code",
   "execution_count": null,
   "id": "992cb5ce",
   "metadata": {},
   "outputs": [],
   "source": [
    "# Import libraries:\n",
    "import numpy as np\n",
    "import pandas as pd\n",
    "import matplotlib.pyplot as plt\n",
    "import seaborn as sns\n",
    "sns.set()\n",
    "\n",
    "# Workshop Functions\n",
    "import sys\n",
    "sys.path.append('..')\n",
    "from Wksp722_functions import * "
   ]
  },
  {
   "cell_type": "code",
   "execution_count": null,
   "id": "98231fec",
   "metadata": {},
   "outputs": [],
   "source": [
    "# first read in the data\n",
    "df = pd.read_csv(\"titanic_test_cleaned.csv\")\n",
    "df.head()"
   ]
  },
  {
   "cell_type": "code",
   "execution_count": null,
   "id": "356b80d7",
   "metadata": {},
   "outputs": [],
   "source": [
    "df.isnull().sum()"
   ]
  },
  {
   "cell_type": "markdown",
   "id": "df895b89",
   "metadata": {},
   "source": [
    "I don't have a 'Dona' salutation in my training set, so we need to change those values to \"Mrs.\".  \n",
    "There is only one in the test set and her age is 39, which is close to the median age of \"Mrs.\" (35 years)"
   ]
  },
  {
   "cell_type": "code",
   "execution_count": null,
   "id": "3a4ff3fc",
   "metadata": {},
   "outputs": [],
   "source": [
    "df['Salutation'].unique()\n",
    "print(df[df['Salutation']=='Dona.'])\n",
    "df.loc[df.loc[:,'Salutation']=='Dona.','Salutation'] = 'Mrs.'"
   ]
  },
  {
   "cell_type": "code",
   "execution_count": null,
   "id": "9882bc7a",
   "metadata": {},
   "outputs": [],
   "source": [
    "df.head()"
   ]
  },
  {
   "cell_type": "code",
   "execution_count": null,
   "id": "9945bfbf",
   "metadata": {},
   "outputs": [],
   "source": [
    "PID = df.loc[:,'PassengerId']\n",
    "x_test =titanicNumericalConverter(df)"
   ]
  },
  {
   "cell_type": "code",
   "execution_count": null,
   "id": "931ebc76",
   "metadata": {},
   "outputs": [],
   "source": [
    "# Load the trained classifier\n",
    "# Read in the classifier trained in the previous lesson\n",
    "import pickle\n",
    "RF_Final = pickle.load(open('RF_Final.pkl', 'rb'))"
   ]
  },
  {
   "cell_type": "code",
   "execution_count": null,
   "id": "5c308774",
   "metadata": {},
   "outputs": [],
   "source": [
    "x_test.head()"
   ]
  },
  {
   "cell_type": "code",
   "execution_count": null,
   "id": "55919720",
   "metadata": {},
   "outputs": [],
   "source": [
    "temp = pd.read_csv('titanic_train_columns.csv')\n",
    "print(temp)"
   ]
  },
  {
   "cell_type": "code",
   "execution_count": null,
   "id": "82407fe2",
   "metadata": {},
   "outputs": [],
   "source": [
    "x_test = M3L3_titanicTest_colInsert(x_test)\n",
    "x_test.columns"
   ]
  },
  {
   "cell_type": "code",
   "execution_count": null,
   "id": "b6d75298",
   "metadata": {},
   "outputs": [],
   "source": [
    "# Next use the model to predict the survival of the passengers in this new test data\n",
    "y_pred = RF_Final.predict(x_test)"
   ]
  },
  {
   "cell_type": "code",
   "execution_count": null,
   "id": "c60b6ab5",
   "metadata": {},
   "outputs": [],
   "source": [
    "# Next use the model to predict the survival of the passengers in this new test data\n",
    "y_pred = RF_Final.predict(x_test)\n",
    "\n",
    "# format the file for submitting to Kaggle.com\n",
    "output = pd.DataFrame({'PassengerId': PID, 'Survived': y_pred})\n",
    "output.to_csv('Patel_submission.csv', index=False)"
   ]
  },
  {
   "cell_type": "markdown",
   "id": "ec149b33",
   "metadata": {},
   "source": [
    "#### When submitted to Kaggle.com competition, results in 0.76555 score, which the website indicates is accuracy.  \n",
    "\n",
    "This is a Kaggle notebook that scored 100%.  https://www.kaggle.com/code/soham1024/titanic-data-science-eda-with-meme-solution\n",
    "***Curiosity Points (10 points)*** Review the notebook and determine the differences in feature engineering that led to the improvement in accuracy"
   ]
  }
 ],
 "metadata": {
  "kernelspec": {
   "display_name": "Python 3 (ipykernel)",
   "language": "python",
   "name": "python3"
  },
  "language_info": {
   "codemirror_mode": {
    "name": "ipython",
    "version": 3
   },
   "file_extension": ".py",
   "mimetype": "text/x-python",
   "name": "python",
   "nbconvert_exporter": "python",
   "pygments_lexer": "ipython3",
   "version": "3.11.9"
  }
 },
 "nbformat": 4,
 "nbformat_minor": 5
}
