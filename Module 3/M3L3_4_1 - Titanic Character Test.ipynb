{
 "cells": [
  {
   "cell_type": "markdown",
   "id": "93e57fa8",
   "metadata": {},
   "source": [
    "# Test with Titanic Movie Characters\n",
    "\n",
    "In the last tutorial, we trained a Random Forest Classifier on passengers that survived or did not survive.  For this exercise, you can choose to play a character from the movie.  \n",
    "\n",
    "** Note that the details in the dataset for these characters do not exactly match those of the movie.  I have tried to find actual passengers from the titanic_train dataset that matched these characters as closely as possible, and then replaced their actual names with the names of the movie characters.  \n",
    "\n",
    "<div>\n",
    "<img src = \"TitanicCharacters.png\" width=\"700\">\n",
    "</div>"
   ]
  },
  {
   "cell_type": "markdown",
   "id": "4b3b1585",
   "metadata": {},
   "source": [
    "### Use the Random Forest Classifier to predict if the character survived or not.  "
   ]
  },
  {
   "cell_type": "markdown",
   "id": "0fe2369e",
   "metadata": {},
   "source": [
    "#### Import libraries and the stored Random Forest Algorithm\n",
    "Let's start by growing a decision tree from the data"
   ]
  },
  {
   "cell_type": "code",
   "execution_count": null,
   "id": "aab844d6",
   "metadata": {},
   "outputs": [],
   "source": [
    "# Import libraries:\n",
    "import numpy as np\n",
    "import pandas as pd\n",
    "import matplotlib.pyplot as plt\n",
    "import seaborn as sns\n",
    "sns.set()\n",
    "\n",
    "# Workshop Functions\n",
    "import sys\n",
    "sys.path.append('..')\n",
    "from Wksp722_functions import * "
   ]
  },
  {
   "cell_type": "code",
   "execution_count": null,
   "id": "e1f1738d",
   "metadata": {},
   "outputs": [],
   "source": [
    "# Read in the classifier trained in the previous lesson\n",
    "import pickle\n",
    "RF_Final = pickle.load(open('RF_Final.pkl', 'rb'))"
   ]
  },
  {
   "cell_type": "markdown",
   "id": "df7e095b",
   "metadata": {},
   "source": [
    "### Load the Test dataset\n",
    "* In order to expedite the process, this dataset was cleaned according to the changes we performed for the Training dataset.  Normally you would need to clean any test datasets separately.  "
   ]
  },
  {
   "cell_type": "code",
   "execution_count": null,
   "id": "6b64692b",
   "metadata": {},
   "outputs": [],
   "source": [
    "# Load the test dataset\n",
    "chars = pd.read_csv(\"titanicMovieCharacters.csv\")\n",
    "chars.head()"
   ]
  },
  {
   "cell_type": "markdown",
   "id": "fd9399ee",
   "metadata": {},
   "source": [
    "### Process Test dataset\n",
    "* Next we need to further process the dataset in the same manner we did in the previous lecture.  "
   ]
  },
  {
   "cell_type": "markdown",
   "id": "b5940ec7",
   "metadata": {},
   "source": [
    "Import the function defined in the previous lecture:\n",
    "\n",
    "def titanicNumericalConverter(df):\n",
    "    # convert the categorical variable 'Sex' to numerical 0 and 1 using mapping\n",
    "    mapping = {'male':0, 'female':1}\n",
    "    df.loc[:,'Sex'] = df.Sex.map(mapping)\n",
    "    \n",
    "    #convert columns using one-hot state encoding:\n",
    "    dfTemp = pd.get_dummies(df.loc[:,['Embarked','Salutation']])\n",
    "    df = pd.concat([df,dfTemp], axis=1)\n",
    "    df.drop(['PassengerId','Embarked','Name','Ticket','Salutation'], axis=1,inplace=True)\n",
    "    return df"
   ]
  },
  {
   "cell_type": "code",
   "execution_count": null,
   "id": "69c3c2e6",
   "metadata": {},
   "outputs": [],
   "source": [
    "x_test = titanicNumericalConverter(chars)"
   ]
  },
  {
   "cell_type": "code",
   "execution_count": null,
   "id": "ff9e3a30",
   "metadata": {},
   "outputs": [],
   "source": [
    "x_test.head()"
   ]
  },
  {
   "cell_type": "markdown",
   "id": "1260b835",
   "metadata": {},
   "source": [
    "However, we see that we're missing some columns as they are not included in the test dataset.  However, the Random Forest algorithm will still look for them.  So we need to insert these columns at the right place.  "
   ]
  },
  {
   "cell_type": "code",
   "execution_count": null,
   "id": "26c34ea6",
   "metadata": {},
   "outputs": [],
   "source": [
    "# This function will insert the missing columns.  I made a function to reduce typing during class.  \n",
    "x_test = M3L3_titanicTest_colInsert(x_test)\n"
   ]
  },
  {
   "cell_type": "code",
   "execution_count": null,
   "id": "3d3804e2",
   "metadata": {},
   "outputs": [],
   "source": [
    "print(x_test.head())\n",
    "print(x_test.columns)"
   ]
  },
  {
   "cell_type": "code",
   "execution_count": null,
   "id": "07133e0e",
   "metadata": {},
   "outputs": [],
   "source": [
    "# Next use the model to predict the survival of the passengers in this new test data\n",
    "y_pred = RF_Final.predict(x_test)"
   ]
  },
  {
   "cell_type": "code",
   "execution_count": null,
   "id": "9e4ffed6",
   "metadata": {},
   "outputs": [],
   "source": [
    "# get the actual answers\n",
    "temp = pd.read_csv(\"titanicMovieCharacters_Answers.csv\")\n",
    "y_test = temp.loc[:,'Survived']"
   ]
  },
  {
   "cell_type": "code",
   "execution_count": null,
   "id": "c6561f2c",
   "metadata": {},
   "outputs": [],
   "source": [
    "for i in range(0,len(y_pred)):\n",
    "    print(chars.loc[i,'Name'], '||', 'predicted to survive: ', y_pred[i], '||', 'actual: ', y_test[i])"
   ]
  },
  {
   "cell_type": "markdown",
   "id": "695a9858",
   "metadata": {},
   "source": [
    "#### How well did the algorithm do for your character?  \n",
    "\n",
    "***Curiosity Points (15 points)***\n",
    "Clean and process the \"titanic_test.csv\" dataset using the methods in the last 3 notebooks.  Predict the survival of the passengers in this dataset.  Then go to the Kaggle challenge website (https://www.kaggle.com/competitions/titanic) and submit your results.  See how well you did.  "
   ]
  },
  {
   "cell_type": "code",
   "execution_count": null,
   "id": "6bbc3ca1",
   "metadata": {},
   "outputs": [],
   "source": []
  }
 ],
 "metadata": {
  "kernelspec": {
   "display_name": "Python 3 (ipykernel)",
   "language": "python",
   "name": "python3"
  },
  "language_info": {
   "codemirror_mode": {
    "name": "ipython",
    "version": 3
   },
   "file_extension": ".py",
   "mimetype": "text/x-python",
   "name": "python",
   "nbconvert_exporter": "python",
   "pygments_lexer": "ipython3",
   "version": "3.11.9"
  }
 },
 "nbformat": 4,
 "nbformat_minor": 5
}
