{
 "cells": [
  {
   "cell_type": "markdown",
   "id": "9cd514b6",
   "metadata": {},
   "source": [
    "## Process the titanic_test dataset\n",
    "In the \"M3L2 - Process (Train)\" notebook, we did the following adjustments to the titanic_train dataset:\n",
    "* Dropped the cabin column\n",
    "* Dropped any paseengers with 'Embarked' data missing\n",
    "* Replaced index with PassengerId\n",
    "* Created a Salutation column\n",
    "* Replaced missing Age data with the median of their Salutation group\n",
    "\n",
    "We must repeat these steps for the test dataset.  \n",
    "Note that Kaggle does not provide the Survived column for the test dataset.  This is in order to prevent researchers from tuning their models specifically for the test dataset and thereby artificially inflating their accuracies.  \n",
    "\n",
    "The code below is an abbridged version of the \"M3L2 - Process (Train)\" notebook."
   ]
  },
  {
   "cell_type": "code",
   "execution_count": null,
   "id": "818107e9",
   "metadata": {},
   "outputs": [],
   "source": [
    "# Import libraries:\n",
    "import numpy as np\n",
    "import pandas as pd\n",
    "import matplotlib.pyplot as plt\n",
    "import seaborn as sns\n",
    "sns.set()\n",
    "\n",
    "# Workshop Functions\n",
    "import sys\n",
    "sys.path.append('..')\n",
    "from Wksp722_functions import * "
   ]
  },
  {
   "cell_type": "code",
   "execution_count": null,
   "id": "227ccf3a",
   "metadata": {},
   "outputs": [],
   "source": [
    "df = pd.read_csv(\"titanic_test.csv\")\n",
    "df.head(2)"
   ]
  },
  {
   "cell_type": "code",
   "execution_count": null,
   "id": "2914e3f3",
   "metadata": {},
   "outputs": [],
   "source": [
    "# reset index to PassengerId\n",
    "df.set_index('PassengerId', inplace=True)"
   ]
  },
  {
   "cell_type": "code",
   "execution_count": null,
   "id": "1e7ad5ac",
   "metadata": {},
   "outputs": [],
   "source": [
    "df.isnull().sum()"
   ]
  },
  {
   "cell_type": "code",
   "execution_count": null,
   "id": "eb92fc0f",
   "metadata": {},
   "outputs": [],
   "source": [
    "# Replace 1 passenger that had a missing Fare with median\n",
    "\n",
    "print(df.shape) # size of df before \n",
    "df.loc[df.loc[:,'Fare'].isnull(),'Fare'] = df.loc[:,'Fare'].median()\n",
    "print(df.shape) # size of df after\n",
    "df.head()"
   ]
  },
  {
   "cell_type": "code",
   "execution_count": null,
   "id": "a8b1dfb7",
   "metadata": {},
   "outputs": [],
   "source": [
    "# Drop Cabin column\n",
    "\n",
    "df.drop(['Cabin'], axis=1, inplace=True)\n",
    "df.head()"
   ]
  },
  {
   "cell_type": "markdown",
   "id": "51b56956",
   "metadata": {},
   "source": [
    "### Create 'Salutation' Column"
   ]
  },
  {
   "cell_type": "code",
   "execution_count": null,
   "id": "fb688810",
   "metadata": {},
   "outputs": [],
   "source": [
    "split_name = df.loc[:,'Name'].str.split(n=3, expand=True)"
   ]
  },
  {
   "cell_type": "code",
   "execution_count": null,
   "id": "d1c63085",
   "metadata": {},
   "outputs": [],
   "source": [
    "# let's see the list of salutations\n",
    "df.loc[:,'Salutation']=split_name[1]"
   ]
  },
  {
   "cell_type": "code",
   "execution_count": null,
   "id": "df79a280",
   "metadata": {},
   "outputs": [],
   "source": [
    "#  Count the number of passengers for each salutation\n",
    "df.groupby('Salutation').count().loc[:,'Name']"
   ]
  },
  {
   "cell_type": "markdown",
   "id": "f602d63b",
   "metadata": {},
   "source": [
    "It's important to use the median ages calculated during the training set to replace missing ages.  That way, we're using the same substitution values for both sets.  "
   ]
  },
  {
   "cell_type": "code",
   "execution_count": null,
   "id": "c0e30296",
   "metadata": {},
   "outputs": [],
   "source": [
    "median_age = pd.read_csv('median_age.csv')\n",
    "median_age.set_index('Salutation',inplace=True)"
   ]
  },
  {
   "cell_type": "code",
   "execution_count": null,
   "id": "8ac8b40f",
   "metadata": {},
   "outputs": [],
   "source": [
    "# let's remember how may null values there are in the existing Age column\n",
    "df.loc[:,'Age'].isnull().sum()"
   ]
  },
  {
   "cell_type": "code",
   "execution_count": null,
   "id": "76f7d4c5",
   "metadata": {},
   "outputs": [],
   "source": [
    "for ind in df.index:\n",
    "    if np.isnan(df.loc[ind,'Age']): \n",
    "        df.loc[ind,'Age'] = median_age.loc[df.loc[ind,'Salutation'],'Age']"
   ]
  },
  {
   "cell_type": "markdown",
   "id": "ac2ec7b0",
   "metadata": {},
   "source": [
    "### Save Test dataset"
   ]
  },
  {
   "cell_type": "code",
   "execution_count": null,
   "id": "1d1b94a8",
   "metadata": {},
   "outputs": [],
   "source": [
    "df.to_csv('titanic_test_cleaned.csv')"
   ]
  },
  {
   "cell_type": "code",
   "execution_count": null,
   "id": "477cd40e-e49f-4010-89bc-f0568121dae0",
   "metadata": {},
   "outputs": [],
   "source": []
  }
 ],
 "metadata": {
  "kernelspec": {
   "display_name": "Python 3 (ipykernel)",
   "language": "python",
   "name": "python3"
  },
  "language_info": {
   "codemirror_mode": {
    "name": "ipython",
    "version": 3
   },
   "file_extension": ".py",
   "mimetype": "text/x-python",
   "name": "python",
   "nbconvert_exporter": "python",
   "pygments_lexer": "ipython3",
   "version": "3.11.9"
  }
 },
 "nbformat": 4,
 "nbformat_minor": 5
}
